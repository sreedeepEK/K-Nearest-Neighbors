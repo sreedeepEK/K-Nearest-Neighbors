{
 "cells": [
  {
   "cell_type": "code",
   "execution_count": 13,
   "metadata": {},
   "outputs": [],
   "source": [
    "import numpy as np \n",
    "np.random.seed(42)\n",
    "X_train = np.random.rand(10,2)\n",
    "y_train = np.random.choice(['A','B'],size=10)\n",
    "X_test = np.random.rand(5,2)"
   ]
  },
  {
   "cell_type": "code",
   "execution_count": 14,
   "metadata": {},
   "outputs": [],
   "source": [
    "from knn import KNN\n",
    "model = KNN(k=3)\n",
    "model.fit(X_train,y_train)"
   ]
  },
  {
   "cell_type": "code",
   "execution_count": 15,
   "metadata": {},
   "outputs": [
    {
     "name": "stdout",
     "output_type": "stream",
     "text": [
      "Predictions: ['B' 'B' 'B' 'B' 'A']\n"
     ]
    }
   ],
   "source": [
    "pred = model.predict(X_test)\n",
    "print(f\"Predictions: {pred}\")"
   ]
  },
  {
   "cell_type": "code",
   "execution_count": 16,
   "metadata": {},
   "outputs": [
    {
     "name": "stdout",
     "output_type": "stream",
     "text": [
      "True labels: ['B' 'B' 'A' 'B' 'A']\n",
      "Accuracy: 80.00%\n"
     ]
    }
   ],
   "source": [
    "# Generate random true labels for the test data\n",
    "y_test = np.random.choice(['A', 'B'], size=5)\n",
    "\n",
    "# Print true labels\n",
    "print(\"True labels:\", y_test)\n",
    "\n",
    "# Compare predictions with true labels\n",
    "accuracy = np.mean(pred == y_test)\n",
    "print(f\"Accuracy: {accuracy * 100:.2f}%\")\n"
   ]
  }
 ],
 "metadata": {
  "kernelspec": {
   "display_name": "base",
   "language": "python",
   "name": "python3"
  },
  "language_info": {
   "codemirror_mode": {
    "name": "ipython",
    "version": 3
   },
   "file_extension": ".py",
   "mimetype": "text/x-python",
   "name": "python",
   "nbconvert_exporter": "python",
   "pygments_lexer": "ipython3",
   "version": "3.11.7"
  }
 },
 "nbformat": 4,
 "nbformat_minor": 2
}
